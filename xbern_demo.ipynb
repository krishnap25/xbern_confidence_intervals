{
 "cells": [
  {
   "cell_type": "markdown",
   "metadata": {},
   "source": [
    "# XBern Confidence Intervals\n",
    "\n",
    "This notebook aims to demo the `xbern_confidence_intervals` Python package. Please install via pip or consult the [README]() for details.\n",
    "\n",
    "We generate some samples from the Exchangeable Bernoulli (XBern) distribution to demonstrate the effect of the xbern_confidence_intervals package. We refer to [Pillutla et al. (NeurIPS 2023)](https://arxiv.org/pdf/2305.18447.pdf) for details on XBern distributions and their confidence intervals.\n",
    "\n",
    "_**XBern Distribution**_: A binary random vector $(X_1, \\ldots, X_k) \\in \\{0, 1\\}^k$ is said to be XBern if is is exchangeable, i.e., the distribution of $(X_1, \\ldots, X_k)$ equals that of $(X_{\\pi(1)}, \\ldots, X_{\\pi(k)})$ for any permutation $\\pi$ on $\\{1, \\ldots, k\\}$.\n",
    "\n",
    "\n",
    "## Setup\n",
    "\n",
    "Consider the two step procedure:\n",
    "\n",
    "- sample $p \\sim P$, where $P$ is some fixed distribution on $[0, 1]$ (e.g. the uniform distribution), and\n",
    "- generate $X_1, \\ldots, X_k \\sim \\text{Bernoulli}(\\lambda p + (1-\\lambda)q)$ for some fixed $\\lambda, q \\in [0, 1]$.\n",
    "\n",
    "The binary random vector $(X_1, \\ldots, X_k)$ is exchangeable, thus it is XBern. For $\\lambda = 0$, we have that $X_{1:k}$ are independent. For $\\lambda > 0$, $X_{1:k}$ are dependent but exchangeable. They grow more correlated as $\\lambda$ grows larger, since $\\text{Cov}(X_i, X_j) = \\lambda^2 \\text{Var}(p)$.\n",
    "\n",
    "Here, $\\lambda, q \\in [0, 1]$ and the distribution $P$ are parameters that determine the resulting XBern distribution.\n",
    "\n",
    "## Part 1: Generate Data"
   ]
  },
  {
   "cell_type": "code",
   "execution_count": 1,
   "metadata": {},
   "outputs": [],
   "source": [
    "import math\n",
    "import numpy as np\n",
    "import pandas as pd\n",
    "\n",
    "def generate_synthetic_data(\n",
    "    n: int,\n",
    "    k: int,\n",
    "    lam: float,\n",
    "    q: float,\n",
    "    p_beta_params: tuple,\n",
    "    seed: int,\n",
    ") -> np.array:\n",
    "    \"\"\"Generate n samples of the synthetic XBern distribution in k dimensions.\n",
    "    \n",
    "        We take P = Beta(a, b) where (a, b) are given by p_beta_params.\n",
    "    \"\"\"\n",
    "    rng = np.random.RandomState(seed)\n",
    "    ps = rng.beta(*p_beta_params, size=n)  # shape = (n,).\n",
    "    ps_mix = lam * ps + (1-lam) * q\n",
    "    return (rng.rand(n, k) <= ps_mix[:, None]).astype(np.double)  # shape = (n, k)."
   ]
  },
  {
   "cell_type": "code",
   "execution_count": 2,
   "metadata": {},
   "outputs": [
    {
     "name": "stdout",
     "output_type": "stream",
     "text": [
      "Shape = (10000, 100), Empirical Mean = 0.10173\n"
     ]
    }
   ],
   "source": [
    "n = 10000  # Number of samples.\n",
    "k = 100  # Dimensionality.\n",
    "lam = 0.01  # Constant for the data generation parameter.\n",
    "samples = generate_synthetic_data(\n",
    "    n, k, lam, q=0.1, p_beta_params=(2, 5), seed=0 \n",
    ")\n",
    "print(f'Shape = {samples.shape}, Empirical Mean = {samples.mean()}')"
   ]
  },
  {
   "cell_type": "markdown",
   "metadata": {},
   "source": [
    "## Part 2: Get Confidence Intervals on the Population Mean\n",
    "\n",
    "We will use the `xbern_confidence_intervals` package to obtain confidence intervals on the true mean.\n"
   ]
  },
  {
   "cell_type": "code",
   "execution_count": 3,
   "metadata": {},
   "outputs": [],
   "source": [
    "import xbern_confidence_intervals as xbern_ci"
   ]
  },
  {
   "cell_type": "markdown",
   "metadata": {},
   "source": [
    "\n",
    "\n",
    "We will obtain a lower confidence bound `left` and upper confidence bound `right` such that the population mean of the XBern is no smaller than `left` with probability $1 - \\beta$ and is no larger than `right` with probability $1-\\beta$.\n",
    "\n",
    "The confidence interval coverage guarantees are exact for the non-asymptotic Bernstein intervals while they are asymptotic (i.e., they hold in the limit that the sample size $n \\to \\infty$) for the Wilson intervals.\n",
    "\n",
    "We compare the different methods: a better method gives tighter confidence intervals, i.e., a larger `left` and a smaller `right`.\n"
   ]
  },
  {
   "cell_type": "code",
   "execution_count": 4,
   "metadata": {},
   "outputs": [
    {
     "data": {
      "text/html": [
       "<div>\n",
       "<style scoped>\n",
       "    .dataframe tbody tr th:only-of-type {\n",
       "        vertical-align: middle;\n",
       "    }\n",
       "\n",
       "    .dataframe tbody tr th {\n",
       "        vertical-align: top;\n",
       "    }\n",
       "\n",
       "    .dataframe thead th {\n",
       "        text-align: right;\n",
       "    }\n",
       "</style>\n",
       "<table border=\"1\" class=\"dataframe\">\n",
       "  <thead>\n",
       "    <tr style=\"text-align: right;\">\n",
       "      <th></th>\n",
       "      <th>Left C.I.</th>\n",
       "    </tr>\n",
       "  </thead>\n",
       "  <tbody>\n",
       "    <tr>\n",
       "      <th>1st-Order Wilson</th>\n",
       "      <td>0.096865</td>\n",
       "    </tr>\n",
       "    <tr>\n",
       "      <th>2nd-Order Wilson</th>\n",
       "      <td>0.100607</td>\n",
       "    </tr>\n",
       "    <tr>\n",
       "      <th>4th-Order Wilson</th>\n",
       "      <td>0.100807</td>\n",
       "    </tr>\n",
       "  </tbody>\n",
       "</table>\n",
       "</div>"
      ],
      "text/plain": [
       "                  Left C.I.\n",
       "1st-Order Wilson   0.096865\n",
       "2nd-Order Wilson   0.100607\n",
       "4th-Order Wilson   0.100807"
      ]
     },
     "execution_count": 4,
     "metadata": {},
     "output_type": "execute_result"
    }
   ],
   "source": [
    "beta = 0.05  # failure probability.\n",
    "\n",
    "# Get asymptotic higher-order Wilson intervals.\n",
    "left, right = xbern_ci.get_wilson_confidence_intervals(\n",
    "    samples, beta\n",
    ")\n",
    "left.rename('Left C.I.').to_frame()"
   ]
  },
  {
   "cell_type": "code",
   "execution_count": 5,
   "metadata": {},
   "outputs": [
    {
     "data": {
      "text/html": [
       "<div>\n",
       "<style scoped>\n",
       "    .dataframe tbody tr th:only-of-type {\n",
       "        vertical-align: middle;\n",
       "    }\n",
       "\n",
       "    .dataframe tbody tr th {\n",
       "        vertical-align: top;\n",
       "    }\n",
       "\n",
       "    .dataframe thead th {\n",
       "        text-align: right;\n",
       "    }\n",
       "</style>\n",
       "<table border=\"1\" class=\"dataframe\">\n",
       "  <thead>\n",
       "    <tr style=\"text-align: right;\">\n",
       "      <th></th>\n",
       "      <th>Right C.I.</th>\n",
       "    </tr>\n",
       "  </thead>\n",
       "  <tbody>\n",
       "    <tr>\n",
       "      <th>1st-Order Wilson</th>\n",
       "      <td>0.106810</td>\n",
       "    </tr>\n",
       "    <tr>\n",
       "      <th>2nd-Order Wilson</th>\n",
       "      <td>0.102779</td>\n",
       "    </tr>\n",
       "    <tr>\n",
       "      <th>4th-Order Wilson</th>\n",
       "      <td>0.102556</td>\n",
       "    </tr>\n",
       "  </tbody>\n",
       "</table>\n",
       "</div>"
      ],
      "text/plain": [
       "                  Right C.I.\n",
       "1st-Order Wilson    0.106810\n",
       "2nd-Order Wilson    0.102779\n",
       "4th-Order Wilson    0.102556"
      ]
     },
     "execution_count": 5,
     "metadata": {},
     "output_type": "execute_result"
    }
   ],
   "source": [
    "right.rename('Right C.I.').to_frame()"
   ]
  },
  {
   "cell_type": "markdown",
   "metadata": {},
   "source": [
    "We can similarly obtain non-asymptotic Bernstein intervals as well. By definition, the asymptotic Wilson intervals are slightly tighter (see [the paper](https://arxiv.org/pdf/2305.18447.pdf) for details)."
   ]
  },
  {
   "cell_type": "code",
   "execution_count": 6,
   "metadata": {},
   "outputs": [
    {
     "data": {
      "text/html": [
       "<div>\n",
       "<style scoped>\n",
       "    .dataframe tbody tr th:only-of-type {\n",
       "        vertical-align: middle;\n",
       "    }\n",
       "\n",
       "    .dataframe tbody tr th {\n",
       "        vertical-align: top;\n",
       "    }\n",
       "\n",
       "    .dataframe thead th {\n",
       "        text-align: right;\n",
       "    }\n",
       "</style>\n",
       "<table border=\"1\" class=\"dataframe\">\n",
       "  <thead>\n",
       "    <tr style=\"text-align: right;\">\n",
       "      <th></th>\n",
       "      <th>Left C.I.</th>\n",
       "    </tr>\n",
       "  </thead>\n",
       "  <tbody>\n",
       "    <tr>\n",
       "      <th>1st-Order Bernstein</th>\n",
       "      <td>0.094374</td>\n",
       "    </tr>\n",
       "    <tr>\n",
       "      <th>2nd-Order Bernstein</th>\n",
       "      <td>0.099624</td>\n",
       "    </tr>\n",
       "    <tr>\n",
       "      <th>4th-Order Bernstein</th>\n",
       "      <td>0.099891</td>\n",
       "    </tr>\n",
       "  </tbody>\n",
       "</table>\n",
       "</div>"
      ],
      "text/plain": [
       "                     Left C.I.\n",
       "1st-Order Bernstein   0.094374\n",
       "2nd-Order Bernstein   0.099624\n",
       "4th-Order Bernstein   0.099891"
      ]
     },
     "execution_count": 6,
     "metadata": {},
     "output_type": "execute_result"
    }
   ],
   "source": [
    "# Get non-asymptotic higher-order Bernstein intervals.\n",
    "left, right = xbern_ci.get_bernstein_confidence_intervals(\n",
    "    samples, beta\n",
    ")\n",
    "left.rename('Left C.I.').to_frame()"
   ]
  },
  {
   "cell_type": "code",
   "execution_count": 7,
   "metadata": {},
   "outputs": [
    {
     "data": {
      "text/html": [
       "<div>\n",
       "<style scoped>\n",
       "    .dataframe tbody tr th:only-of-type {\n",
       "        vertical-align: middle;\n",
       "    }\n",
       "\n",
       "    .dataframe tbody tr th {\n",
       "        vertical-align: top;\n",
       "    }\n",
       "\n",
       "    .dataframe thead th {\n",
       "        text-align: right;\n",
       "    }\n",
       "</style>\n",
       "<table border=\"1\" class=\"dataframe\">\n",
       "  <thead>\n",
       "    <tr style=\"text-align: right;\">\n",
       "      <th></th>\n",
       "      <th>Right C.I.</th>\n",
       "    </tr>\n",
       "  </thead>\n",
       "  <tbody>\n",
       "    <tr>\n",
       "      <th>1st-Order Bernstein</th>\n",
       "      <td>0.109575</td>\n",
       "    </tr>\n",
       "    <tr>\n",
       "      <th>2nd-Order Bernstein</th>\n",
       "      <td>0.103674</td>\n",
       "    </tr>\n",
       "    <tr>\n",
       "      <th>4th-Order Bernstein</th>\n",
       "      <td>0.103366</td>\n",
       "    </tr>\n",
       "  </tbody>\n",
       "</table>\n",
       "</div>"
      ],
      "text/plain": [
       "                     Right C.I.\n",
       "1st-Order Bernstein    0.109575\n",
       "2nd-Order Bernstein    0.103674\n",
       "4th-Order Bernstein    0.103366"
      ]
     },
     "execution_count": 7,
     "metadata": {},
     "output_type": "execute_result"
    }
   ],
   "source": [
    "right.rename('Right C.I.').to_frame()"
   ]
  },
  {
   "cell_type": "markdown",
   "metadata": {},
   "source": [
    "## Part 3: Plot the effect of the correlation\n",
    "\n",
    "The parameter $\\lambda$ in our synthetic data generation process controls the amount of correlation in the XBern. We will now vary the value of $\\lambda$ and plot the resulting confidence intervals.\n",
    "\n",
    "To this end, we will use the **vectorized confidence interval** implementations provided in the `xbern_confidence_interval` package. (Using vectorized NumPy/SciPy and other numerical code is often an order of magnitude more efficient than Python loops.)"
   ]
  },
  {
   "cell_type": "code",
   "execution_count": 8,
   "metadata": {},
   "outputs": [
    {
     "name": "stdout",
     "output_type": "stream",
     "text": [
      "Shape of samples = (25, 10000, 100)\n"
     ]
    }
   ],
   "source": [
    "lam_list = np.linspace(0, 1, 25)  # We will use a grid of \\lambda\n",
    "\n",
    "n = 10000\n",
    "k = 100\n",
    "q = 0.1\n",
    "p_beta_params = (2, 5)\n",
    "\n",
    "samples = np.stack([\n",
    "    generate_synthetic_data(n, k, lam, q, p_beta_params, seed=i)\n",
    "    for i, lam in enumerate(lam_list)\n",
    "])  # (batch, n, k); where batch = number of lambdas.\n",
    "print(f'Shape of samples = {samples.shape}')"
   ]
  },
  {
   "cell_type": "code",
   "execution_count": 9,
   "metadata": {},
   "outputs": [],
   "source": [
    "# Obtain all the confidence intervals in a vectorized manner.\n",
    "left, right = xbern_ci.get_wilson_confidence_intervals_vectorized(\n",
    "    samples, beta\n",
    ")\n",
    "# The output should match the following for each batch element `i`:\n",
    "# left[i], right[i] = xbern_ci.get_wilson_confidence_interval(\n",
    "#       samples[i], beta)"
   ]
  },
  {
   "cell_type": "markdown",
   "metadata": {},
   "source": [
    "_**Plotting the results**_: Let us plot the width of the confidence intervals as a function of $\\lambda$. Recall that a smaller width denotes tighter confidence intervals and are more desirable.\n"
   ]
  },
  {
   "cell_type": "code",
   "execution_count": 10,
   "metadata": {},
   "outputs": [],
   "source": [
    "import matplotlib.pyplot as plt\n",
    "import matplotlib as mpl\n",
    "%matplotlib inline\n",
    "\n",
    "mpl.rcParams['text.usetex'] = True  # Use LaTeX for math formatting."
   ]
  },
  {
   "cell_type": "code",
   "execution_count": 11,
   "metadata": {},
   "outputs": [
    {
     "data": {
      "image/png": "[encoded data removed]",
      "text/plain": [
       "<Figure size 900x400 with 2 Axes>"
      ]
     },
     "metadata": {},
     "output_type": "display_data"
    }
   ],
   "source": [
    "f, ax = plt.subplots(1, 2, figsize=(9, 4), sharey=True)\n",
    "\n",
    "# Plot the mean and intervals\n",
    "empirical_mean = samples.mean(axis=(1,2))  # (batch_size,)\n",
    "\n",
    "styles = [\n",
    "    dict(marker='*', markersize=7, linestyle=\"solid\", color='C0', linewidth=3),\n",
    "    dict(marker=\"o\", markersize=5, linestyle=\"dotted\", color='C1', linewidth=3),\n",
    "    dict(marker=\"s\", markersize=5, linestyle=\"dashed\", color='C2', linewidth=3),\n",
    "]\n",
    "\n",
    "keys = ['1st-Order Wilson', '2nd-Order Wilson', '4th-Order Wilson']\n",
    "for i, key in enumerate(keys):\n",
    "    ax[0].plot(lam_list, (empirical_mean - left.loc[key]) / empirical_mean, label=key, **styles[i])\n",
    "    ax[1].plot(lam_list, (right.loc[key] - empirical_mean) / empirical_mean, **styles[i])\n",
    "    \n",
    "\n",
    "ax[0].set_xlabel(r'Correlation parameter $\\lambda$', fontsize=18)\n",
    "ax[1].set_xlabel(r'Correlation parameter $\\lambda$', fontsize=18)\n",
    "ax[0].set_ylabel('C.I. Width / Empirical mean', fontsize=18)\n",
    "ax[0].set_title('Lower Confidence Bound', fontsize=18)\n",
    "ax[1].set_title('Upper Confidence Bound', fontsize=18)\n",
    "\n",
    "lgd = f.legend(fontsize=18, loc=8, bbox_to_anchor=(0, -0.13, 1, 1), ncol=5)\n",
    "plt.tight_layout()"
   ]
  },
  {
   "cell_type": "markdown",
   "metadata": {},
   "source": [
    "\n",
    "_**Results**_:\n",
    "\n",
    "Note that the 2nd and 4th order Wilson intervals are significantly tighter than the 1st order Wilson interval. Indeed, the higher order intervals get better with smaller correlations, while the 1st order Wilson interval gets worse.\n",
    "\n",
    "Further, at smaller correlations, the 4th order interval outperforms the 2nd order interval but the reverse is true at high correlation.\n",
    "\n",
    "These intuitions are in line with the observations by [Pillutla et al. (2023)](https://arxiv.org/pdf/2305.18447.pdf) in the context of auditing differential privacy in ML.\n"
   ]
  },
  {
   "cell_type": "markdown",
   "metadata": {},
   "source": [
    "\n",
    "# Citation\n",
    "\n",
    "If you find this software useful, please cite [this paper](https://arxiv.org/pdf/2305.18447.pdf):\n",
    "\n",
    "```\n",
    "@inproceedings{pillutla2023unleashing,\n",
    "  author       = {Krishna Pillutla and\n",
    "                  Galen Andrew and\n",
    "                  Peter Kairouz and\n",
    "                  H. Brendan McMahan and\n",
    "                  Alina Oprea and\n",
    "                  Sewoong Oh},\n",
    "  title        = {{Unleashing the Power of Randomization in Auditing Differentially Private\n",
    "                  ML}},\n",
    "  booktitle      = {NeurIPS},\n",
    "  year         = {2023},\n",
    "}\n",
    "```\n"
   ]
  },
  {
   "cell_type": "markdown",
   "metadata": {},
   "source": []
  }
 ],
 "metadata": {
  "kernelspec": {
   "display_name": "accounting",
   "language": "python",
   "name": "python3"
  },
  "language_info": {
   "codemirror_mode": {
    "name": "ipython",
    "version": 3
   },
   "file_extension": ".py",
   "mimetype": "text/x-python",
   "name": "python",
   "nbconvert_exporter": "python",
   "pygments_lexer": "ipython3",
   "version": "3.12.2"
  }
 },
 "nbformat": 4,
 "nbformat_minor": 2
}
